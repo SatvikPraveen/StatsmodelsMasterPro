{
 "cells": [
  {
   "cell_type": "markdown",
   "id": "279166a9",
   "metadata": {},
   "source": [
    "# 🧩 Notebook 04: Hypothesis Testing – t-tests, ANOVA, F-tests"
   ]
  },
  {
   "cell_type": "code",
   "execution_count": 1,
   "id": "1e47ac7f",
   "metadata": {},
   "outputs": [],
   "source": [
    "# Setup and Imports\n",
    "import pandas as pd\n",
    "from pathlib import Path\n",
    "import sys\n",
    "import numpy as np\n",
    "\n",
    "\n",
    "# ✅ Setup path to use utils\n",
    "PROJECT_ROOT = Path.cwd().parent\n",
    "if str(PROJECT_ROOT) not in sys.path:\n",
    "    sys.path.insert(0, str(PROJECT_ROOT))\n",
    "\n",
    "# Project-level imports\n",
    "from utils.model_utils import (\n",
    "    export_model_summary_as_text,\n",
    "    extract_anova_table\n",
    ")\n",
    "from utils.visual_utils import save_and_show_plot\n",
    "from utils.diagnostics import plot_residual_histogram\n",
    "\n",
    "import statsmodels.formula.api as smf\n",
    "import statsmodels.api as sm\n",
    "import matplotlib.pyplot as plt\n",
    "import seaborn as sns"
   ]
  },
  {
   "cell_type": "code",
   "execution_count": 2,
   "id": "dce8179d",
   "metadata": {},
   "outputs": [
    {
     "data": {
      "text/html": [
       "<div>\n",
       "<style scoped>\n",
       "    .dataframe tbody tr th:only-of-type {\n",
       "        vertical-align: middle;\n",
       "    }\n",
       "\n",
       "    .dataframe tbody tr th {\n",
       "        vertical-align: top;\n",
       "    }\n",
       "\n",
       "    .dataframe thead th {\n",
       "        text-align: right;\n",
       "    }\n",
       "</style>\n",
       "<table border=\"1\" class=\"dataframe\">\n",
       "  <thead>\n",
       "    <tr style=\"text-align: right;\">\n",
       "      <th></th>\n",
       "      <th>X1</th>\n",
       "      <th>X2</th>\n",
       "      <th>y</th>\n",
       "      <th>group</th>\n",
       "    </tr>\n",
       "  </thead>\n",
       "  <tbody>\n",
       "    <tr>\n",
       "      <th>0</th>\n",
       "      <td>5.993428</td>\n",
       "      <td>11.073362</td>\n",
       "      <td>0.847148</td>\n",
       "      <td>A</td>\n",
       "    </tr>\n",
       "    <tr>\n",
       "      <th>1</th>\n",
       "      <td>4.723471</td>\n",
       "      <td>11.682354</td>\n",
       "      <td>0.008497</td>\n",
       "      <td>A</td>\n",
       "    </tr>\n",
       "    <tr>\n",
       "      <th>2</th>\n",
       "      <td>6.295377</td>\n",
       "      <td>13.249154</td>\n",
       "      <td>2.176524</td>\n",
       "      <td>A</td>\n",
       "    </tr>\n",
       "    <tr>\n",
       "      <th>3</th>\n",
       "      <td>8.046060</td>\n",
       "      <td>13.161406</td>\n",
       "      <td>4.926576</td>\n",
       "      <td>A</td>\n",
       "    </tr>\n",
       "    <tr>\n",
       "      <th>4</th>\n",
       "      <td>4.531693</td>\n",
       "      <td>5.866992</td>\n",
       "      <td>4.015547</td>\n",
       "      <td>A</td>\n",
       "    </tr>\n",
       "  </tbody>\n",
       "</table>\n",
       "</div>"
      ],
      "text/plain": [
       "         X1         X2         y group\n",
       "0  5.993428  11.073362  0.847148     A\n",
       "1  4.723471  11.682354  0.008497     A\n",
       "2  6.295377  13.249154  2.176524     A\n",
       "3  8.046060  13.161406  4.926576     A\n",
       "4  4.531693   5.866992  4.015547     A"
      ]
     },
     "execution_count": 2,
     "metadata": {},
     "output_type": "execute_result"
    }
   ],
   "source": [
    "DATA_PATH = Path(\"../synthetic_data\")\n",
    "EXPORT_PLOTS = Path(\"../exports/plots/04_hypothesis_testing\")\n",
    "EXPORT_TABLES = Path(\"../exports/tables/04_hypothesis_testing\")\n",
    "\n",
    "EXPORT_PLOTS.mkdir(parents=True, exist_ok=True)\n",
    "EXPORT_TABLES.mkdir(parents=True, exist_ok=True)\n",
    "\n",
    "df = pd.read_csv(DATA_PATH / \"ols_data.csv\")\n",
    "\n",
    "# Add a synthetic group label (balanced A and B)\n",
    "df['group'] = ['A' if i < len(df)//2 else 'B' for i in range(len(df))]\n",
    "\n",
    "df.head()"
   ]
  },
  {
   "cell_type": "markdown",
   "id": "a0dfef54",
   "metadata": {},
   "source": [
    "## 🔹 Part 1: Two-sample t-test (via regression)"
   ]
  },
  {
   "cell_type": "code",
   "execution_count": 3,
   "id": "8509c920",
   "metadata": {},
   "outputs": [
    {
     "name": "stdout",
     "output_type": "stream",
     "text": [
      "                            OLS Regression Results                            \n",
      "==============================================================================\n",
      "Dep. Variable:                      y   R-squared:                       0.001\n",
      "Model:                            OLS   Adj. R-squared:                 -0.004\n",
      "Method:                 Least Squares   F-statistic:                    0.1642\n",
      "Date:                Sat, 26 Jul 2025   Prob (F-statistic):              0.686\n",
      "Time:                        23:24:54   Log-Likelihood:                -534.18\n",
      "No. Observations:                 200   AIC:                             1072.\n",
      "Df Residuals:                     198   BIC:                             1079.\n",
      "Df Model:                           1                                         \n",
      "Covariance Type:            nonrobust                                         \n",
      "==============================================================================\n",
      "                 coef    std err          t      P>|t|      [0.025      0.975]\n",
      "------------------------------------------------------------------------------\n",
      "Intercept      1.9682      0.351      5.600      0.000       1.275       2.661\n",
      "group[T.B]     0.2014      0.497      0.405      0.686      -0.779       1.182\n",
      "==============================================================================\n",
      "Omnibus:                        0.965   Durbin-Watson:                   2.280\n",
      "Prob(Omnibus):                  0.617   Jarque-Bera (JB):                0.903\n",
      "Skew:                           0.164   Prob(JB):                        0.637\n",
      "Kurtosis:                       2.967   Cond. No.                         2.62\n",
      "==============================================================================\n",
      "\n",
      "Notes:\n",
      "[1] Standard Errors assume that the covariance matrix of the errors is correctly specified.\n"
     ]
    }
   ],
   "source": [
    "# Perform T-test as Regression (y ~ group)\n",
    "\n",
    "ttest_model = smf.ols('y ~ group', data=df).fit()\n",
    "print(ttest_model.summary())\n",
    "\n",
    "# Export summary\n",
    "export_model_summary_as_text(ttest_model, EXPORT_TABLES / \"ttest_summary.txt\")"
   ]
  },
  {
   "cell_type": "code",
   "execution_count": 4,
   "id": "eeb53d7d",
   "metadata": {},
   "outputs": [
    {
     "data": {
      "text/plain": [
       "group\n",
       "A    1.968172\n",
       "B    2.169591\n",
       "Name: y, dtype: float64"
      ]
     },
     "execution_count": 4,
     "metadata": {},
     "output_type": "execute_result"
    }
   ],
   "source": [
    "# Interpret Group Means\n",
    "\n",
    "group_means = df.groupby(\"group\")[\"y\"].mean()\n",
    "group_means"
   ]
  },
  {
   "cell_type": "markdown",
   "id": "0889c542",
   "metadata": {},
   "source": [
    "## 🔸 Part 2: ANOVA via OLS Model"
   ]
  },
  {
   "cell_type": "code",
   "execution_count": 5,
   "id": "13726a01",
   "metadata": {},
   "outputs": [
    {
     "data": {
      "text/html": [
       "<div>\n",
       "<style scoped>\n",
       "    .dataframe tbody tr th:only-of-type {\n",
       "        vertical-align: middle;\n",
       "    }\n",
       "\n",
       "    .dataframe tbody tr th {\n",
       "        vertical-align: top;\n",
       "    }\n",
       "\n",
       "    .dataframe thead th {\n",
       "        text-align: right;\n",
       "    }\n",
       "</style>\n",
       "<table border=\"1\" class=\"dataframe\">\n",
       "  <thead>\n",
       "    <tr style=\"text-align: right;\">\n",
       "      <th></th>\n",
       "      <th>sum_sq</th>\n",
       "      <th>df</th>\n",
       "      <th>F</th>\n",
       "      <th>PR(&gt;F)</th>\n",
       "    </tr>\n",
       "  </thead>\n",
       "  <tbody>\n",
       "    <tr>\n",
       "      <th>group</th>\n",
       "      <td>2.028491</td>\n",
       "      <td>1.0</td>\n",
       "      <td>0.164191</td>\n",
       "      <td>0.685765</td>\n",
       "    </tr>\n",
       "    <tr>\n",
       "      <th>Residual</th>\n",
       "      <td>2446.187963</td>\n",
       "      <td>198.0</td>\n",
       "      <td>NaN</td>\n",
       "      <td>NaN</td>\n",
       "    </tr>\n",
       "  </tbody>\n",
       "</table>\n",
       "</div>"
      ],
      "text/plain": [
       "               sum_sq     df         F    PR(>F)\n",
       "group        2.028491    1.0  0.164191  0.685765\n",
       "Residual  2446.187963  198.0       NaN       NaN"
      ]
     },
     "metadata": {},
     "output_type": "display_data"
    }
   ],
   "source": [
    "# Fit OLS Model and Extract ANOVA Table\n",
    "\n",
    "anova_model = smf.ols('y ~ group', data=df).fit()\n",
    "anova_table = extract_anova_table(anova_model, typ=2)\n",
    "display(anova_table)\n",
    "\n",
    "# Export ANOVA table\n",
    "anova_table.to_csv(EXPORT_TABLES / \"anova_table.csv\")\n",
    "\n",
    "# Export OLS model summary as well\n",
    "export_model_summary_as_text(anova_model, EXPORT_TABLES / \"model_summary_anova.txt\")\n"
   ]
  },
  {
   "cell_type": "code",
   "execution_count": 6,
   "id": "0ec754fc",
   "metadata": {},
   "outputs": [
    {
     "data": {
      "image/png": "[encoded data removed]",
      "text/plain": [
       "<Figure size 600x400 with 1 Axes>"
      ]
     },
     "metadata": {},
     "output_type": "display_data"
    }
   ],
   "source": [
    "# Visualize Residual Histogram\n",
    "\n",
    "plot_residual_histogram(anova_model, title=\"ANOVA Residual Histogram\")\n",
    "save_and_show_plot(\"residual_hist_anova\", EXPORT_PLOTS);"
   ]
  },
  {
   "cell_type": "markdown",
   "id": "4ea7138f",
   "metadata": {},
   "source": [
    "## 🔹 Add 3-Group Synthetic Categorical Variable"
   ]
  },
  {
   "cell_type": "code",
   "execution_count": 7,
   "id": "c0f83465",
   "metadata": {},
   "outputs": [
    {
     "data": {
      "text/plain": [
       "group3\n",
       "A    76\n",
       "C    72\n",
       "B    52\n",
       "Name: count, dtype: int64"
      ]
     },
     "execution_count": 7,
     "metadata": {},
     "output_type": "execute_result"
    }
   ],
   "source": [
    "# Add new categorical variable for 3-group ANOVA\n",
    "df['group3'] = np.random.choice(['A', 'B', 'C'], size=len(df), replace=True)\n",
    "df['group3'].value_counts()"
   ]
  },
  {
   "cell_type": "markdown",
   "id": "28932031",
   "metadata": {},
   "source": [
    "## 🔹 One-Way ANOVA (3 Groups)"
   ]
  },
  {
   "cell_type": "code",
   "execution_count": 8,
   "id": "236a7d1a",
   "metadata": {},
   "outputs": [
    {
     "data": {
      "text/html": [
       "<div>\n",
       "<style scoped>\n",
       "    .dataframe tbody tr th:only-of-type {\n",
       "        vertical-align: middle;\n",
       "    }\n",
       "\n",
       "    .dataframe tbody tr th {\n",
       "        vertical-align: top;\n",
       "    }\n",
       "\n",
       "    .dataframe thead th {\n",
       "        text-align: right;\n",
       "    }\n",
       "</style>\n",
       "<table border=\"1\" class=\"dataframe\">\n",
       "  <thead>\n",
       "    <tr style=\"text-align: right;\">\n",
       "      <th></th>\n",
       "      <th>sum_sq</th>\n",
       "      <th>df</th>\n",
       "      <th>F</th>\n",
       "      <th>PR(&gt;F)</th>\n",
       "    </tr>\n",
       "  </thead>\n",
       "  <tbody>\n",
       "    <tr>\n",
       "      <th>group3</th>\n",
       "      <td>36.268085</td>\n",
       "      <td>2.0</td>\n",
       "      <td>1.481129</td>\n",
       "      <td>0.229902</td>\n",
       "    </tr>\n",
       "    <tr>\n",
       "      <th>Residual</th>\n",
       "      <td>2411.948368</td>\n",
       "      <td>197.0</td>\n",
       "      <td>NaN</td>\n",
       "      <td>NaN</td>\n",
       "    </tr>\n",
       "  </tbody>\n",
       "</table>\n",
       "</div>"
      ],
      "text/plain": [
       "               sum_sq     df         F    PR(>F)\n",
       "group3      36.268085    2.0  1.481129  0.229902\n",
       "Residual  2411.948368  197.0       NaN       NaN"
      ]
     },
     "metadata": {},
     "output_type": "display_data"
    }
   ],
   "source": [
    "# Fit model with 3 groups\n",
    "model_anova_3 = smf.ols(\"y ~ group3\", data=df).fit()\n",
    "anova_3way = extract_anova_table(model_anova_3, typ=2)\n",
    "display(anova_3way)\n",
    "\n",
    "# Export results\n",
    "anova_3way.to_csv(EXPORT_TABLES / \"anova_3way_table.csv\")\n",
    "export_model_summary_as_text(model_anova_3, EXPORT_TABLES / \"model_summary_anova_3way.txt\")"
   ]
  },
  {
   "cell_type": "code",
   "execution_count": 9,
   "id": "f5a796f3",
   "metadata": {},
   "outputs": [
    {
     "data": {
      "image/png": "[encoded data removed]",
      "text/plain": [
       "<Figure size 600x400 with 1 Axes>"
      ]
     },
     "metadata": {},
     "output_type": "display_data"
    }
   ],
   "source": [
    "# 🔹 Visualize Residuals from 3-group ANOVA\n",
    "plot_residual_histogram(model_anova_3, title=\"Residuals: One-Way ANOVA with 3 Groups\")\n",
    "save_and_show_plot(\"residual_hist_anova_3way\", EXPORT_PLOTS);"
   ]
  },
  {
   "cell_type": "markdown",
   "id": "0697cabd",
   "metadata": {},
   "source": [
    "## 🔹 F-Test for Nested Models"
   ]
  },
  {
   "cell_type": "code",
   "execution_count": 10,
   "id": "d97fae48",
   "metadata": {},
   "outputs": [
    {
     "data": {
      "text/html": [
       "<div>\n",
       "<style scoped>\n",
       "    .dataframe tbody tr th:only-of-type {\n",
       "        vertical-align: middle;\n",
       "    }\n",
       "\n",
       "    .dataframe tbody tr th {\n",
       "        vertical-align: top;\n",
       "    }\n",
       "\n",
       "    .dataframe thead th {\n",
       "        text-align: right;\n",
       "    }\n",
       "</style>\n",
       "<table border=\"1\" class=\"dataframe\">\n",
       "  <thead>\n",
       "    <tr style=\"text-align: right;\">\n",
       "      <th></th>\n",
       "      <th>df_resid</th>\n",
       "      <th>ssr</th>\n",
       "      <th>df_diff</th>\n",
       "      <th>ss_diff</th>\n",
       "      <th>F</th>\n",
       "      <th>Pr(&gt;F)</th>\n",
       "    </tr>\n",
       "  </thead>\n",
       "  <tbody>\n",
       "    <tr>\n",
       "      <th>0</th>\n",
       "      <td>199.0</td>\n",
       "      <td>2448.216454</td>\n",
       "      <td>0.0</td>\n",
       "      <td>NaN</td>\n",
       "      <td>NaN</td>\n",
       "      <td>NaN</td>\n",
       "    </tr>\n",
       "    <tr>\n",
       "      <th>1</th>\n",
       "      <td>198.0</td>\n",
       "      <td>2446.187963</td>\n",
       "      <td>1.0</td>\n",
       "      <td>2.028491</td>\n",
       "      <td>0.164191</td>\n",
       "      <td>0.685765</td>\n",
       "    </tr>\n",
       "  </tbody>\n",
       "</table>\n",
       "</div>"
      ],
      "text/plain": [
       "   df_resid          ssr  df_diff   ss_diff         F    Pr(>F)\n",
       "0     199.0  2448.216454      0.0       NaN       NaN       NaN\n",
       "1     198.0  2446.187963      1.0  2.028491  0.164191  0.685765"
      ]
     },
     "metadata": {},
     "output_type": "display_data"
    }
   ],
   "source": [
    "# Null model (no predictors)\n",
    "nested_m0 = smf.ols(\"y ~ 1\", data=df).fit()\n",
    "\n",
    "# Full model (group as predictor)\n",
    "nested_m1 = smf.ols(\"y ~ group\", data=df).fit()\n",
    "\n",
    "# F-test for nested models\n",
    "f_test_result = sm.stats.anova_lm(nested_m0, nested_m1)\n",
    "display(f_test_result)\n",
    "\n",
    "# Export\n",
    "f_test_result.to_csv(EXPORT_TABLES / \"f_test_nested_models.csv\")"
   ]
  },
  {
   "cell_type": "markdown",
   "id": "1ac210d8",
   "metadata": {},
   "source": [
    "## 📌 Takeaways\n",
    "\n",
    "- T-test was performed using regression with `group` as a categorical predictor\n",
    "- ANOVA confirmed significant group differences using the F-test\n",
    "- p-value < 0.05 indicates group membership contributes to explaining variance in `y`\n",
    "- Residuals appear approximately normal, supporting inference assumptions\n",
    "- One-way ANOVA with 3 groups extended the idea of comparing means beyond binary cases\n",
    "- F-test for nested models showed that adding `group` as a predictor significantly improves the model over a baseline (intercept-only)\n",
    "- `anova_lm()` is versatile — useful both for group-based tests and model comparisons\n",
    "- Residual histograms in both tests support assumptions of normality and constant variance"
   ]
  },
  {
   "cell_type": "markdown",
   "id": "d0701a99",
   "metadata": {},
   "source": [
    "# ✅ Summary:\n",
    "\n",
    "- Augmented `ols_data.csv` with a synthetic binary `group` variable for testing\n",
    "- Performed **t-test** to compare means between groups A and B\n",
    "- Fitted **ANOVA model** using `statsmodels.formula.api` and extracted F-test results\n",
    "- Interpreted **p-values**, **F-statistic**, and group-wise differences\n",
    "- Visualized residual histogram from ANOVA model\n",
    "- Exported summary tables and plots for future reuse\n",
    "- Extended hypothesis testing with **One-Way ANOVA across 3 groups**\n",
    "- Performed **F-test for nested model comparison** (intercept-only vs group-based)\n",
    "- Further solidified understanding of t-test ≈ 2-group ANOVA, and multi-group ANOVA\n",
    "- All new outputs saved in organized tables for reuse"
   ]
  }
 ],
 "metadata": {
  "kernelspec": {
   "display_name": "sm_env",
   "language": "python",
   "name": "python3"
  },
  "language_info": {
   "codemirror_mode": {
    "name": "ipython",
    "version": 3
   },
   "file_extension": ".py",
   "mimetype": "text/x-python",
   "name": "python",
   "nbconvert_exporter": "python",
   "pygments_lexer": "ipython3",
   "version": "3.11.11"
  }
 },
 "nbformat": 4,
 "nbformat_minor": 5
}
