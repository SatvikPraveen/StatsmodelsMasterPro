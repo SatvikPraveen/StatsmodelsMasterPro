{
 "cells": [
  {
   "cell_type": "markdown",
   "id": "ea7a701c",
   "metadata": {},
   "source": [
    "# 🧩 Notebook 10: Posthoc Tests & Advanced Inference"
   ]
  },
  {
   "cell_type": "code",
   "execution_count": 1,
   "id": "c23961c8",
   "metadata": {},
   "outputs": [],
   "source": [
    "# Setup and Imports\n",
    "\n",
    "import pandas as pd\n",
    "import numpy as np\n",
    "from pathlib import Path\n",
    "import sys\n",
    "\n",
    "# ✅ Setup path to use utils\n",
    "PROJECT_ROOT = Path.cwd().parent\n",
    "if str(PROJECT_ROOT) not in sys.path:\n",
    "    sys.path.insert(0, str(PROJECT_ROOT))\n",
    "\n",
    "# Imports\n",
    "from statsmodels.formula.api import ols\n",
    "from statsmodels.stats.multicomp import pairwise_tukeyhsd\n",
    "from statsmodels.stats.multitest import multipletests\n",
    "import statsmodels.api as sm\n",
    "import seaborn as sns\n",
    "import matplotlib.pyplot as plt\n",
    "import pingouin as pg\n",
    "\n",
    "from utils.visual_utils import save_and_show_plot\n",
    "from utils.model_utils import export_model_summary_as_text, compute_hotelling_t2\n"
   ]
  },
  {
   "cell_type": "code",
   "execution_count": 2,
   "id": "cca1e9e9",
   "metadata": {},
   "outputs": [],
   "source": [
    "# Paths\n",
    "DATA_PATH = Path(\"../synthetic_data\")\n",
    "EXPORT_PLOTS = Path(\"../exports/plots/10_posthoc_advanced\")\n",
    "EXPORT_TABLES = Path(\"../exports/tables/10_posthoc_advanced\")\n",
    "EXPORT_PLOTS.mkdir(parents=True, exist_ok=True)\n",
    "EXPORT_TABLES.mkdir(parents=True, exist_ok=True)"
   ]
  },
  {
   "cell_type": "markdown",
   "id": "b9f5fbf4",
   "metadata": {},
   "source": [
    "## 🔹 Step 1: Load and extend MANOVA dataset"
   ]
  },
  {
   "cell_type": "code",
   "execution_count": 3,
   "id": "d29be780",
   "metadata": {},
   "outputs": [
    {
     "data": {
      "text/html": [
       "<div>\n",
       "<style scoped>\n",
       "    .dataframe tbody tr th:only-of-type {\n",
       "        vertical-align: middle;\n",
       "    }\n",
       "\n",
       "    .dataframe tbody tr th {\n",
       "        vertical-align: top;\n",
       "    }\n",
       "\n",
       "    .dataframe thead th {\n",
       "        text-align: right;\n",
       "    }\n",
       "</style>\n",
       "<table border=\"1\" class=\"dataframe\">\n",
       "  <thead>\n",
       "    <tr style=\"text-align: right;\">\n",
       "      <th></th>\n",
       "      <th>Y1</th>\n",
       "      <th>Y2</th>\n",
       "      <th>group</th>\n",
       "    </tr>\n",
       "  </thead>\n",
       "  <tbody>\n",
       "    <tr>\n",
       "      <th>0</th>\n",
       "      <td>0.038227</td>\n",
       "      <td>0.250106</td>\n",
       "      <td>A</td>\n",
       "    </tr>\n",
       "    <tr>\n",
       "      <th>1</th>\n",
       "      <td>0.277570</td>\n",
       "      <td>1.273579</td>\n",
       "      <td>A</td>\n",
       "    </tr>\n",
       "    <tr>\n",
       "      <th>2</th>\n",
       "      <td>-0.287370</td>\n",
       "      <td>-0.212594</td>\n",
       "      <td>A</td>\n",
       "    </tr>\n",
       "    <tr>\n",
       "      <th>3</th>\n",
       "      <td>-0.972675</td>\n",
       "      <td>-1.092789</td>\n",
       "      <td>A</td>\n",
       "    </tr>\n",
       "    <tr>\n",
       "      <th>4</th>\n",
       "      <td>0.400296</td>\n",
       "      <td>-0.084333</td>\n",
       "      <td>A</td>\n",
       "    </tr>\n",
       "  </tbody>\n",
       "</table>\n",
       "</div>"
      ],
      "text/plain": [
       "         Y1        Y2 group\n",
       "0  0.038227  0.250106     A\n",
       "1  0.277570  1.273579     A\n",
       "2 -0.287370 -0.212594     A\n",
       "3 -0.972675 -1.092789     A\n",
       "4  0.400296 -0.084333     A"
      ]
     },
     "execution_count": 3,
     "metadata": {},
     "output_type": "execute_result"
    }
   ],
   "source": [
    "# Load Dataset\n",
    "df = pd.read_csv(DATA_PATH / \"manova_data.csv\")\n",
    "df.head()"
   ]
  },
  {
   "cell_type": "markdown",
   "id": "5c594320",
   "metadata": {},
   "source": [
    "## 🔹 Step 2: Tukey’s HSD for each response separately"
   ]
  },
  {
   "cell_type": "code",
   "execution_count": 4,
   "id": "e5cc23a9",
   "metadata": {},
   "outputs": [
    {
     "name": "stdout",
     "output_type": "stream",
     "text": [
      "Multiple Comparison of Means - Tukey HSD, FWER=0.05\n",
      "=================================================\n",
      "group1 group2 meandiff p-adj lower  upper  reject\n",
      "-------------------------------------------------\n",
      "     A      B   1.7055   0.0 1.4807 1.9303   True\n",
      "-------------------------------------------------\n"
     ]
    }
   ],
   "source": [
    "# Turkey's HSD for each reponse separately\n",
    "tukey_y1 = pairwise_tukeyhsd(endog=df[\"Y1\"], groups=df[\"group\"], alpha=0.05)\n",
    "print(tukey_y1.summary())\n",
    "with open(EXPORT_TABLES / \"tukey_y1.txt\", \"w\") as f:\n",
    "    f.write(str(tukey_y1.summary()))\n",
    "\n",
    "tukey_y2 = pairwise_tukeyhsd(endog=df[\"Y2\"], groups=df[\"group\"], alpha=0.05)\n",
    "with open(EXPORT_TABLES / \"tukey_y2.txt\", \"w\") as f:\n",
    "    f.write(str(tukey_y2.summary()))"
   ]
  },
  {
   "cell_type": "markdown",
   "id": "f852d585",
   "metadata": {},
   "source": [
    "## 🔹 Step 3: Pairwise t-tests with Bonferroni and Holm correction"
   ]
  },
  {
   "cell_type": "code",
   "execution_count": 5,
   "id": "bc639651",
   "metadata": {},
   "outputs": [
    {
     "name": "stderr",
     "output_type": "stream",
     "text": [
      "/Users/satvikpraveen/Desktop/Libraries/StatsmodelsMasterPro/sm_env/lib/python3.11/site-packages/pingouin/pairwise.py:28: UserWarning: pairwise_ttests is deprecated, use pairwise_tests instead.\n",
      "  warnings.warn(\"pairwise_ttests is deprecated, use pairwise_tests instead.\", UserWarning)\n",
      "/Users/satvikpraveen/Desktop/Libraries/StatsmodelsMasterPro/sm_env/lib/python3.11/site-packages/pingouin/pairwise.py:28: UserWarning: pairwise_ttests is deprecated, use pairwise_tests instead.\n",
      "  warnings.warn(\"pairwise_ttests is deprecated, use pairwise_tests instead.\", UserWarning)\n"
     ]
    }
   ],
   "source": [
    "# Pairwise t-tests with Bonferroni and Holm correction\n",
    "res_y1 = pg.pairwise_ttests(dv=\"Y1\", between=\"group\", data=df, padjust=\"holm\")\n",
    "res_y2 = pg.pairwise_ttests(dv=\"Y2\", between=\"group\", data=df, padjust=\"bonf\")\n",
    "\n",
    "res_y1.to_csv(EXPORT_TABLES / \"pairwise_y1_holm.csv\", index=False)\n",
    "res_y2.to_csv(EXPORT_TABLES / \"pairwise_y2_bonferroni.csv\", index=False)"
   ]
  },
  {
   "cell_type": "code",
   "execution_count": 6,
   "id": "c6db0653",
   "metadata": {},
   "outputs": [
    {
     "name": "stderr",
     "output_type": "stream",
     "text": [
      "/var/folders/23/phyj43kx4jz5gywlx6__9_kc0000gn/T/ipykernel_35670/4190426940.py:4: FutureWarning: \n",
      "\n",
      "Passing `palette` without assigning `hue` is deprecated and will be removed in v0.14.0. Assign the `x` variable to `hue` and set `legend=False` for the same effect.\n",
      "\n",
      "  sns.barplot(data=df, x=x_col, y=y_col, palette=\"Set2\")\n"
     ]
    },
    {
     "data": {
      "image/png": "[encoded data removed]",
      "text/plain": [
       "<Figure size 500x400 with 1 Axes>"
      ]
     },
     "metadata": {},
     "output_type": "display_data"
    }
   ],
   "source": [
    "# plot of p-values\n",
    "def plot_adjusted_pvals(df, x_col=\"Contrast\", y_col=\"p-unc\", filename=\"adjusted_pvals\"):\n",
    "    plt.figure(figsize=(5, 4))\n",
    "    sns.barplot(data=df, x=x_col, y=y_col, palette=\"Set2\")\n",
    "    plt.title(\"Adjusted P-Values by Contrast\")\n",
    "    plt.xticks(rotation=45)\n",
    "    save_and_show_plot(filename, EXPORT_PLOTS)\n",
    "\n",
    "\n",
    "# Plot - residuals for y1\n",
    "plot_adjusted_pvals(res_y1, \"Contrast\", \"p-unc\", \"adjusted_pvals_y1\")"
   ]
  },
  {
   "cell_type": "code",
   "execution_count": 7,
   "id": "f4014f0c",
   "metadata": {},
   "outputs": [
    {
     "name": "stderr",
     "output_type": "stream",
     "text": [
      "/var/folders/23/phyj43kx4jz5gywlx6__9_kc0000gn/T/ipykernel_35670/4190426940.py:4: FutureWarning: \n",
      "\n",
      "Passing `palette` without assigning `hue` is deprecated and will be removed in v0.14.0. Assign the `x` variable to `hue` and set `legend=False` for the same effect.\n",
      "\n",
      "  sns.barplot(data=df, x=x_col, y=y_col, palette=\"Set2\")\n"
     ]
    },
    {
     "data": {
      "image/png": "[encoded data removed]",
      "text/plain": [
       "<Figure size 500x400 with 1 Axes>"
      ]
     },
     "metadata": {},
     "output_type": "display_data"
    }
   ],
   "source": [
    "# Plot - residuals for y2\n",
    "plot_adjusted_pvals(res_y2, x_col=\"Contrast\", y_col=\"p-unc\", filename=\"adjusted_pvals_y2\")"
   ]
  },
  {
   "cell_type": "markdown",
   "id": "5d66dd5e",
   "metadata": {},
   "source": [
    "## 🔹 Step 4: Hotelling’s T² Test (Multivariate)"
   ]
  },
  {
   "cell_type": "code",
   "execution_count": 8,
   "id": "44fca6ed",
   "metadata": {},
   "outputs": [
    {
     "data": {
      "text/html": [
       "<div>\n",
       "<style scoped>\n",
       "    .dataframe tbody tr th:only-of-type {\n",
       "        vertical-align: middle;\n",
       "    }\n",
       "\n",
       "    .dataframe tbody tr th {\n",
       "        vertical-align: top;\n",
       "    }\n",
       "\n",
       "    .dataframe thead th {\n",
       "        text-align: right;\n",
       "    }\n",
       "</style>\n",
       "<table border=\"1\" class=\"dataframe\">\n",
       "  <thead>\n",
       "    <tr style=\"text-align: right;\">\n",
       "      <th></th>\n",
       "      <th>T2</th>\n",
       "      <th>F</th>\n",
       "      <th>p_value</th>\n",
       "    </tr>\n",
       "  </thead>\n",
       "  <tbody>\n",
       "    <tr>\n",
       "      <th>0</th>\n",
       "      <td>290.174496</td>\n",
       "      <td>144.600378</td>\n",
       "      <td>1.110223e-16</td>\n",
       "    </tr>\n",
       "  </tbody>\n",
       "</table>\n",
       "</div>"
      ],
      "text/plain": [
       "           T2           F       p_value\n",
       "0  290.174496  144.600378  1.110223e-16"
      ]
     },
     "metadata": {},
     "output_type": "display_data"
    }
   ],
   "source": [
    "# Hotelling’s T² Test (Multivariate)\n",
    "group1 = df[df['group'] == 'A']\n",
    "group2 = df[df['group'] == 'B']\n",
    "cols = ['Y1', 'Y2']\n",
    "\n",
    "hotelling_result = compute_hotelling_t2(group1, group2, cols)\n",
    "hotelling_df = pd.DataFrame([hotelling_result])\n",
    "display(hotelling_df)\n",
    "\n",
    "# Export to CSV\n",
    "hotelling_df.to_csv(EXPORT_TABLES / \"hotellings_t2_manual.csv\", index=False)"
   ]
  },
  {
   "cell_type": "markdown",
   "id": "e5b8dbb6",
   "metadata": {},
   "source": [
    "## ✅ Summary:\n",
    "- Compared `Y1`, `Y2` between group A & B using:\n",
    "    - Tukey's HSD\n",
    "    - Bonferroni & Holm-corrected pairwise t-tests\n",
    "    - Hotelling's T² multivariate test\n",
    "- Exported all summaries, results, and visualizations"
   ]
  }
 ],
 "metadata": {
  "kernelspec": {
   "display_name": "sm_env",
   "language": "python",
   "name": "python3"
  },
  "language_info": {
   "codemirror_mode": {
    "name": "ipython",
    "version": 3
   },
   "file_extension": ".py",
   "mimetype": "text/x-python",
   "name": "python",
   "nbconvert_exporter": "python",
   "pygments_lexer": "ipython3",
   "version": "3.11.11"
  }
 },
 "nbformat": 4,
 "nbformat_minor": 5
}
