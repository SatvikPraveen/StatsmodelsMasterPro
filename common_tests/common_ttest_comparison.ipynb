{
 "cells": [
  {
   "cell_type": "markdown",
   "id": "1145cd83",
   "metadata": {},
   "source": [
    "# 🧩 Comparing Two Groups – T-test via Regression (Extended)"
   ]
  },
  {
   "cell_type": "code",
   "execution_count": 1,
   "id": "98079ba1",
   "metadata": {},
   "outputs": [],
   "source": [
    "# Setup and Imports\n",
    "\n",
    "import pandas as pd\n",
    "from pathlib import Path\n",
    "import sys\n",
    "\n",
    "# ✅ Setup path to use utils\n",
    "PROJECT_ROOT = Path.cwd().parent\n",
    "if str(PROJECT_ROOT) not in sys.path:\n",
    "    sys.path.insert(0, str(PROJECT_ROOT))\n",
    "\n",
    "# Imports\n",
    "from utils.model_utils import (\n",
    "    run_ttest_model,\n",
    "    extract_group_means,\n",
    "    export_model_summary_as_text\n",
    ")\n",
    "from utils.diagnostics import plot_residual_histogram\n",
    "from utils.visual_utils import save_and_show_plot\n",
    "\n",
    "from pingouin import compute_effsize, ttest\n",
    "import seaborn as sns\n",
    "import matplotlib.pyplot as plt"
   ]
  },
  {
   "cell_type": "code",
   "execution_count": 2,
   "id": "fae452bd",
   "metadata": {},
   "outputs": [],
   "source": [
    "# 📂 Setup Paths\n",
    "DATA_PATH = Path(\"../synthetic_data\")\n",
    "EXPORT_PLOTS = Path(\"../exports/plots/common_ttest_comparison\")\n",
    "EXPORT_TABLES = Path(\"../exports/tables/common_ttest_comparison\")\n",
    "EXPORT_PLOTS.mkdir(parents=True, exist_ok=True)\n",
    "EXPORT_TABLES.mkdir(parents=True, exist_ok=True)"
   ]
  },
  {
   "cell_type": "code",
   "execution_count": 3,
   "id": "88391afc",
   "metadata": {},
   "outputs": [
    {
     "data": {
      "text/html": [
       "<div>\n",
       "<style scoped>\n",
       "    .dataframe tbody tr th:only-of-type {\n",
       "        vertical-align: middle;\n",
       "    }\n",
       "\n",
       "    .dataframe tbody tr th {\n",
       "        vertical-align: top;\n",
       "    }\n",
       "\n",
       "    .dataframe thead th {\n",
       "        text-align: right;\n",
       "    }\n",
       "</style>\n",
       "<table border=\"1\" class=\"dataframe\">\n",
       "  <thead>\n",
       "    <tr style=\"text-align: right;\">\n",
       "      <th></th>\n",
       "      <th>X1</th>\n",
       "      <th>X2</th>\n",
       "      <th>y</th>\n",
       "      <th>group</th>\n",
       "    </tr>\n",
       "  </thead>\n",
       "  <tbody>\n",
       "    <tr>\n",
       "      <th>0</th>\n",
       "      <td>5.993428</td>\n",
       "      <td>11.073362</td>\n",
       "      <td>0.847148</td>\n",
       "      <td>A</td>\n",
       "    </tr>\n",
       "    <tr>\n",
       "      <th>1</th>\n",
       "      <td>4.723471</td>\n",
       "      <td>11.682354</td>\n",
       "      <td>0.008497</td>\n",
       "      <td>A</td>\n",
       "    </tr>\n",
       "    <tr>\n",
       "      <th>2</th>\n",
       "      <td>6.295377</td>\n",
       "      <td>13.249154</td>\n",
       "      <td>2.176524</td>\n",
       "      <td>A</td>\n",
       "    </tr>\n",
       "    <tr>\n",
       "      <th>3</th>\n",
       "      <td>8.046060</td>\n",
       "      <td>13.161406</td>\n",
       "      <td>4.926576</td>\n",
       "      <td>A</td>\n",
       "    </tr>\n",
       "    <tr>\n",
       "      <th>4</th>\n",
       "      <td>4.531693</td>\n",
       "      <td>5.866992</td>\n",
       "      <td>4.015547</td>\n",
       "      <td>A</td>\n",
       "    </tr>\n",
       "  </tbody>\n",
       "</table>\n",
       "</div>"
      ],
      "text/plain": [
       "         X1         X2         y group\n",
       "0  5.993428  11.073362  0.847148     A\n",
       "1  4.723471  11.682354  0.008497     A\n",
       "2  6.295377  13.249154  2.176524     A\n",
       "3  8.046060  13.161406  4.926576     A\n",
       "4  4.531693   5.866992  4.015547     A"
      ]
     },
     "execution_count": 3,
     "metadata": {},
     "output_type": "execute_result"
    }
   ],
   "source": [
    "# 📥 Load Data and Create Group Column\n",
    "df = pd.read_csv(DATA_PATH / \"ols_data.csv\")\n",
    "df['group'] = ['A' if i < len(df)//2 else 'B' for i in range(len(df))]\n",
    "df.head()"
   ]
  },
  {
   "cell_type": "code",
   "execution_count": 4,
   "id": "2bed082c",
   "metadata": {},
   "outputs": [
    {
     "name": "stdout",
     "output_type": "stream",
     "text": [
      "                            OLS Regression Results                            \n",
      "==============================================================================\n",
      "Dep. Variable:                      y   R-squared:                       0.001\n",
      "Model:                            OLS   Adj. R-squared:                 -0.004\n",
      "Method:                 Least Squares   F-statistic:                    0.1642\n",
      "Date:                Sat, 26 Jul 2025   Prob (F-statistic):              0.686\n",
      "Time:                        23:54:19   Log-Likelihood:                -534.18\n",
      "No. Observations:                 200   AIC:                             1072.\n",
      "Df Residuals:                     198   BIC:                             1079.\n",
      "Df Model:                           1                                         \n",
      "Covariance Type:            nonrobust                                         \n",
      "==============================================================================\n",
      "                 coef    std err          t      P>|t|      [0.025      0.975]\n",
      "------------------------------------------------------------------------------\n",
      "Intercept      1.9682      0.351      5.600      0.000       1.275       2.661\n",
      "group[T.B]     0.2014      0.497      0.405      0.686      -0.779       1.182\n",
      "==============================================================================\n",
      "Omnibus:                        0.965   Durbin-Watson:                   2.280\n",
      "Prob(Omnibus):                  0.617   Jarque-Bera (JB):                0.903\n",
      "Skew:                           0.164   Prob(JB):                        0.637\n",
      "Kurtosis:                       2.967   Cond. No.                         2.62\n",
      "==============================================================================\n",
      "\n",
      "Notes:\n",
      "[1] Standard Errors assume that the covariance matrix of the errors is correctly specified.\n"
     ]
    }
   ],
   "source": [
    "# 🧪 T-test using OLS (statsmodels)\n",
    "\n",
    "model = run_ttest_model(df, formula='y ~ group')\n",
    "print(model.summary())\n",
    "export_model_summary_as_text(model, EXPORT_TABLES / \"ttest_summary.txt\")"
   ]
  },
  {
   "cell_type": "code",
   "execution_count": 5,
   "id": "3622aef7",
   "metadata": {},
   "outputs": [
    {
     "data": {
      "text/plain": [
       "group\n",
       "A    1.968172\n",
       "B    2.169591\n",
       "Name: y, dtype: float64"
      ]
     },
     "metadata": {},
     "output_type": "display_data"
    }
   ],
   "source": [
    "# 📊 Group-wise Means\n",
    "group_means = extract_group_means(df, group_col='group', target_col='y')\n",
    "display(group_means)\n",
    "group_means.to_csv(EXPORT_TABLES / \"group_means.csv\")"
   ]
  },
  {
   "cell_type": "code",
   "execution_count": 6,
   "id": "abd66948",
   "metadata": {},
   "outputs": [
    {
     "data": {
      "image/png": "[encoded data removed]",
      "text/plain": [
       "<Figure size 600x400 with 1 Axes>"
      ]
     },
     "metadata": {},
     "output_type": "display_data"
    }
   ],
   "source": [
    "# 📈 Residual Plot\n",
    "\n",
    "plot_residual_histogram(model, title=\"T-test Residuals\")\n",
    "save_and_show_plot(\"residuals_ttest\", EXPORT_PLOTS)"
   ]
  },
  {
   "cell_type": "code",
   "execution_count": 7,
   "id": "c0d00357",
   "metadata": {},
   "outputs": [
    {
     "name": "stdout",
     "output_type": "stream",
     "text": [
      "Cohen's d: -0.05730456178031032\n"
     ]
    }
   ],
   "source": [
    "# 📏 Effect Size (Cohen's d)\n",
    "\n",
    "cohens_d = compute_effsize(df[df['group']=='A']['y'], df[df['group']=='B']['y'], eftype='cohen')\n",
    "print(\"Cohen's d:\", cohens_d)"
   ]
  },
  {
   "cell_type": "code",
   "execution_count": 8,
   "id": "591a066f",
   "metadata": {},
   "outputs": [
    {
     "name": "stderr",
     "output_type": "stream",
     "text": [
      "/var/folders/23/phyj43kx4jz5gywlx6__9_kc0000gn/T/ipykernel_93420/4075587644.py:4: FutureWarning: \n",
      "\n",
      "The `ci` parameter is deprecated. Use `errorbar=('ci', 95)` for the same effect.\n",
      "\n",
      "  sns.pointplot(data=df, x='group', y='y', ci=95, capsize=0.2)\n"
     ]
    },
    {
     "data": {
      "image/png": "[encoded data removed]",
      "text/plain": [
       "<Figure size 600x400 with 1 Axes>"
      ]
     },
     "metadata": {},
     "output_type": "display_data"
    }
   ],
   "source": [
    "# 📉 Confidence Interval Plot of Group Means\n",
    "\n",
    "plt.figure(figsize=(6, 4))\n",
    "sns.pointplot(data=df, x='group', y='y', ci=95, capsize=0.2)\n",
    "plt.title(\"95% CI for Group Means\")\n",
    "plt.tight_layout()\n",
    "save_and_show_plot(\"group_means_ci\", EXPORT_PLOTS)"
   ]
  },
  {
   "cell_type": "markdown",
   "id": "99ca2476",
   "metadata": {},
   "source": [
    "## ✅ Summary:\n",
    "\n",
    "- Performed t-test using OLS regression model (`y ~ group`)\n",
    "- Compared group means and visualized residuals\n",
    "- Calculated **Cohen’s d** as effect size (via `pingouin`)\n",
    "- Plotted 95% confidence intervals around group means\n",
    "- Exported model summary, group means, and all plots"
   ]
  }
 ],
 "metadata": {
  "kernelspec": {
   "display_name": "sm_env",
   "language": "python",
   "name": "python3"
  },
  "language_info": {
   "codemirror_mode": {
    "name": "ipython",
    "version": 3
   },
   "file_extension": ".py",
   "mimetype": "text/x-python",
   "name": "python",
   "nbconvert_exporter": "python",
   "pygments_lexer": "ipython3",
   "version": "3.11.11"
  }
 },
 "nbformat": 4,
 "nbformat_minor": 5
}
