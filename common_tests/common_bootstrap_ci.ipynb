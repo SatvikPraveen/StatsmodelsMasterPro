{
 "cells": [
  {
   "cell_type": "markdown",
   "id": "108b0652",
   "metadata": {},
   "source": [
    "# 🧩 Bootstrap Confidence Intervals – Group Mean Estimation"
   ]
  },
  {
   "cell_type": "code",
   "execution_count": 1,
   "id": "33ba2405",
   "metadata": {},
   "outputs": [],
   "source": [
    "# Setup and Imports\n",
    "\n",
    "import pandas as pd\n",
    "import numpy as np\n",
    "import matplotlib.pyplot as plt\n",
    "import seaborn as sns\n",
    "from pathlib import Path\n",
    "import sys\n",
    "\n",
    "# ✅ Setup path to use utils\n",
    "PROJECT_ROOT = Path.cwd().parent\n",
    "if str(PROJECT_ROOT) not in sys.path:\n",
    "    sys.path.insert(0, str(PROJECT_ROOT))\n",
    "\n",
    "# Imports\n",
    "from utils.model_utils import bootstrap_groupwise_ci\n",
    "from utils.visual_utils import save_and_show_plot"
   ]
  },
  {
   "cell_type": "code",
   "execution_count": 2,
   "id": "68bc44b8",
   "metadata": {},
   "outputs": [],
   "source": [
    "# 📁 Paths\n",
    "DATA_PATH = Path(\"../synthetic_data\")\n",
    "EXPORT_PLOTS = Path(\"../exports/plots/common_bootstrap_ci\")\n",
    "EXPORT_TABLES = Path(\"../exports/tables/common_bootstrap_ci\")\n",
    "EXPORT_PLOTS.mkdir(parents=True, exist_ok=True)\n",
    "EXPORT_TABLES.mkdir(parents=True, exist_ok=True)"
   ]
  },
  {
   "cell_type": "code",
   "execution_count": 3,
   "id": "0b208d53",
   "metadata": {},
   "outputs": [
    {
     "data": {
      "text/html": [
       "<div>\n",
       "<style scoped>\n",
       "    .dataframe tbody tr th:only-of-type {\n",
       "        vertical-align: middle;\n",
       "    }\n",
       "\n",
       "    .dataframe tbody tr th {\n",
       "        vertical-align: top;\n",
       "    }\n",
       "\n",
       "    .dataframe thead th {\n",
       "        text-align: right;\n",
       "    }\n",
       "</style>\n",
       "<table border=\"1\" class=\"dataframe\">\n",
       "  <thead>\n",
       "    <tr style=\"text-align: right;\">\n",
       "      <th></th>\n",
       "      <th>X1</th>\n",
       "      <th>X2</th>\n",
       "      <th>y</th>\n",
       "      <th>group</th>\n",
       "    </tr>\n",
       "  </thead>\n",
       "  <tbody>\n",
       "    <tr>\n",
       "      <th>0</th>\n",
       "      <td>5.993428</td>\n",
       "      <td>11.073362</td>\n",
       "      <td>0.847148</td>\n",
       "      <td>A</td>\n",
       "    </tr>\n",
       "    <tr>\n",
       "      <th>1</th>\n",
       "      <td>4.723471</td>\n",
       "      <td>11.682354</td>\n",
       "      <td>0.008497</td>\n",
       "      <td>A</td>\n",
       "    </tr>\n",
       "    <tr>\n",
       "      <th>2</th>\n",
       "      <td>6.295377</td>\n",
       "      <td>13.249154</td>\n",
       "      <td>2.176524</td>\n",
       "      <td>A</td>\n",
       "    </tr>\n",
       "    <tr>\n",
       "      <th>3</th>\n",
       "      <td>8.046060</td>\n",
       "      <td>13.161406</td>\n",
       "      <td>4.926576</td>\n",
       "      <td>A</td>\n",
       "    </tr>\n",
       "    <tr>\n",
       "      <th>4</th>\n",
       "      <td>4.531693</td>\n",
       "      <td>5.866992</td>\n",
       "      <td>4.015547</td>\n",
       "      <td>A</td>\n",
       "    </tr>\n",
       "  </tbody>\n",
       "</table>\n",
       "</div>"
      ],
      "text/plain": [
       "         X1         X2         y group\n",
       "0  5.993428  11.073362  0.847148     A\n",
       "1  4.723471  11.682354  0.008497     A\n",
       "2  6.295377  13.249154  2.176524     A\n",
       "3  8.046060  13.161406  4.926576     A\n",
       "4  4.531693   5.866992  4.015547     A"
      ]
     },
     "execution_count": 3,
     "metadata": {},
     "output_type": "execute_result"
    }
   ],
   "source": [
    "# 📥 Load synthetic data and add group\n",
    "df = pd.read_csv(DATA_PATH / \"ols_data.csv\")\n",
    "df['group'] = ['A' if i < len(df)//2 else 'B' for i in range(len(df))]\n",
    "df.head()"
   ]
  },
  {
   "cell_type": "code",
   "execution_count": 4,
   "id": "aac0cc57",
   "metadata": {},
   "outputs": [
    {
     "data": {
      "text/html": [
       "<div>\n",
       "<style scoped>\n",
       "    .dataframe tbody tr th:only-of-type {\n",
       "        vertical-align: middle;\n",
       "    }\n",
       "\n",
       "    .dataframe tbody tr th {\n",
       "        vertical-align: top;\n",
       "    }\n",
       "\n",
       "    .dataframe thead th {\n",
       "        text-align: right;\n",
       "    }\n",
       "</style>\n",
       "<table border=\"1\" class=\"dataframe\">\n",
       "  <thead>\n",
       "    <tr style=\"text-align: right;\">\n",
       "      <th></th>\n",
       "      <th>Group</th>\n",
       "      <th>Mean</th>\n",
       "      <th>Lower</th>\n",
       "      <th>Upper</th>\n",
       "    </tr>\n",
       "  </thead>\n",
       "  <tbody>\n",
       "    <tr>\n",
       "      <th>0</th>\n",
       "      <td>A</td>\n",
       "      <td>1.968172</td>\n",
       "      <td>1.298183</td>\n",
       "      <td>2.605902</td>\n",
       "    </tr>\n",
       "    <tr>\n",
       "      <th>1</th>\n",
       "      <td>B</td>\n",
       "      <td>2.169591</td>\n",
       "      <td>1.505157</td>\n",
       "      <td>2.834230</td>\n",
       "    </tr>\n",
       "  </tbody>\n",
       "</table>\n",
       "</div>"
      ],
      "text/plain": [
       "  Group      Mean     Lower     Upper\n",
       "0     A  1.968172  1.298183  2.605902\n",
       "1     B  2.169591  1.505157  2.834230"
      ]
     },
     "metadata": {},
     "output_type": "display_data"
    }
   ],
   "source": [
    "# 📊 Compute Bootstrap CI for each group\n",
    "bootstrap_results = bootstrap_groupwise_ci(df, group_col=\"group\", value_col=\"y\",\n",
    "                                           n_bootstrap=1000, ci=95)\n",
    "display(bootstrap_results)\n",
    "bootstrap_results.to_csv(EXPORT_TABLES / \"bootstrap_ci_table.csv\", index=False)"
   ]
  },
  {
   "cell_type": "code",
   "execution_count": 5,
   "id": "685aee14",
   "metadata": {},
   "outputs": [
    {
     "data": {
      "image/png": "[encoded data removed]",
      "text/plain": [
       "<Figure size 600x400 with 1 Axes>"
      ]
     },
     "metadata": {},
     "output_type": "display_data"
    },
    {
     "data": {
      "text/plain": [
       "<Figure size 640x480 with 0 Axes>"
      ]
     },
     "metadata": {},
     "output_type": "display_data"
    }
   ],
   "source": [
    "# 📈 Plot Bootstrap CIs\n",
    "plt.figure(figsize=(6, 4))\n",
    "\n",
    "# Extract values\n",
    "x = bootstrap_results['Group']\n",
    "y = bootstrap_results['Mean']\n",
    "yerr_lower = y - bootstrap_results['Lower']\n",
    "yerr_upper = bootstrap_results['Upper'] - y\n",
    "yerr = [yerr_lower, yerr_upper]\n",
    "\n",
    "plt.errorbar(x, y, yerr=yerr, fmt='o', color='darkgreen', capsize=5)\n",
    "plt.title(\"Bootstrap 95% CI for Group Means\")\n",
    "plt.ylabel(\"Mean (Y)\")\n",
    "plt.xlabel(\"Group\")\n",
    "plt.tight_layout()\n",
    "save_and_show_plot(\"bootstrap_group_mean_ci\", EXPORT_PLOTS)\n",
    "\n",
    "save_and_show_plot(\"bootstrap_group_mean_ci\", EXPORT_PLOTS)"
   ]
  },
  {
   "cell_type": "markdown",
   "id": "80725558",
   "metadata": {},
   "source": [
    "## ✅ Summary:\n",
    "- Performed bootstrap resampling to estimate 95% CI for each group’s mean\n",
    "- Visualized CIs using Seaborn pointplot with asymmetric error bars\n",
    "- Exported CI table and plot for reproducibility"
   ]
  }
 ],
 "metadata": {
  "kernelspec": {
   "display_name": "sm_env",
   "language": "python",
   "name": "python3"
  },
  "language_info": {
   "codemirror_mode": {
    "name": "ipython",
    "version": 3
   },
   "file_extension": ".py",
   "mimetype": "text/x-python",
   "name": "python",
   "nbconvert_exporter": "python",
   "pygments_lexer": "ipython3",
   "version": "3.11.11"
  }
 },
 "nbformat": 4,
 "nbformat_minor": 5
}
