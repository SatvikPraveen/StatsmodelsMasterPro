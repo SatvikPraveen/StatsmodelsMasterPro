{
 "cells": [
  {
   "cell_type": "markdown",
   "id": "fbb76eb0",
   "metadata": {},
   "source": [
    "# 🧩 Confidence Interval Comparisons using statsmodels + seaborn"
   ]
  },
  {
   "cell_type": "code",
   "execution_count": 1,
   "id": "2a60bd39",
   "metadata": {},
   "outputs": [],
   "source": [
    "# Setup and Imports\n",
    "\n",
    "import pandas as pd\n",
    "import numpy as np\n",
    "from pathlib import Path\n",
    "import sys\n",
    "import matplotlib.pyplot as plt\n",
    "\n",
    "# ✅ Setup paths\n",
    "PROJECT_ROOT = Path.cwd().parent\n",
    "if str(PROJECT_ROOT) not in sys.path:\n",
    "    sys.path.insert(0, str(PROJECT_ROOT))\n",
    "\n",
    "# Imports\n",
    "from utils.model_utils import fit_ols_model, compute_confidence_interval\n",
    "from utils.visual_utils import plot_ci_errorbar, save_and_show_plot, plot_ci_barplot\n",
    "from utils.model_utils import export_model_summary_as_text"
   ]
  },
  {
   "cell_type": "code",
   "execution_count": 2,
   "id": "7d142445",
   "metadata": {},
   "outputs": [],
   "source": [
    "# Paths\n",
    "DATA_PATH = Path(\"../synthetic_data\")\n",
    "EXPORT_PLOTS = Path(\"../exports/plots/common_ci_comparison\")\n",
    "EXPORT_TABLES = Path(\"../exports/tables/common_ci_comparison\")\n",
    "EXPORT_PLOTS.mkdir(parents=True, exist_ok=True)\n",
    "EXPORT_TABLES.mkdir(parents=True, exist_ok=True)"
   ]
  },
  {
   "cell_type": "markdown",
   "id": "5a70d809",
   "metadata": {},
   "source": [
    "## 📥 Step 1: Load Data and Create Group Labels"
   ]
  },
  {
   "cell_type": "code",
   "execution_count": 3,
   "id": "59232054",
   "metadata": {},
   "outputs": [
    {
     "data": {
      "text/html": [
       "<div>\n",
       "<style scoped>\n",
       "    .dataframe tbody tr th:only-of-type {\n",
       "        vertical-align: middle;\n",
       "    }\n",
       "\n",
       "    .dataframe tbody tr th {\n",
       "        vertical-align: top;\n",
       "    }\n",
       "\n",
       "    .dataframe thead th {\n",
       "        text-align: right;\n",
       "    }\n",
       "</style>\n",
       "<table border=\"1\" class=\"dataframe\">\n",
       "  <thead>\n",
       "    <tr style=\"text-align: right;\">\n",
       "      <th></th>\n",
       "      <th>X1</th>\n",
       "      <th>X2</th>\n",
       "      <th>y</th>\n",
       "      <th>group</th>\n",
       "    </tr>\n",
       "  </thead>\n",
       "  <tbody>\n",
       "    <tr>\n",
       "      <th>0</th>\n",
       "      <td>5.993428</td>\n",
       "      <td>11.073362</td>\n",
       "      <td>0.847148</td>\n",
       "      <td>A</td>\n",
       "    </tr>\n",
       "    <tr>\n",
       "      <th>1</th>\n",
       "      <td>4.723471</td>\n",
       "      <td>11.682354</td>\n",
       "      <td>0.008497</td>\n",
       "      <td>A</td>\n",
       "    </tr>\n",
       "    <tr>\n",
       "      <th>2</th>\n",
       "      <td>6.295377</td>\n",
       "      <td>13.249154</td>\n",
       "      <td>2.176524</td>\n",
       "      <td>A</td>\n",
       "    </tr>\n",
       "    <tr>\n",
       "      <th>3</th>\n",
       "      <td>8.046060</td>\n",
       "      <td>13.161406</td>\n",
       "      <td>4.926576</td>\n",
       "      <td>A</td>\n",
       "    </tr>\n",
       "    <tr>\n",
       "      <th>4</th>\n",
       "      <td>4.531693</td>\n",
       "      <td>5.866992</td>\n",
       "      <td>4.015547</td>\n",
       "      <td>A</td>\n",
       "    </tr>\n",
       "  </tbody>\n",
       "</table>\n",
       "</div>"
      ],
      "text/plain": [
       "         X1         X2         y group\n",
       "0  5.993428  11.073362  0.847148     A\n",
       "1  4.723471  11.682354  0.008497     A\n",
       "2  6.295377  13.249154  2.176524     A\n",
       "3  8.046060  13.161406  4.926576     A\n",
       "4  4.531693   5.866992  4.015547     A"
      ]
     },
     "execution_count": 3,
     "metadata": {},
     "output_type": "execute_result"
    }
   ],
   "source": [
    "# Load Data and Create Group Labels\n",
    "df = pd.read_csv(DATA_PATH / \"ols_data.csv\")\n",
    "df['group'] = ['A' if i < len(df)//2 else 'B' for i in range(len(df))]\n",
    "df.head()"
   ]
  },
  {
   "cell_type": "markdown",
   "id": "03e74bfa",
   "metadata": {},
   "source": [
    "## 📊 Step 2: CI Plot using Seaborn"
   ]
  },
  {
   "cell_type": "code",
   "execution_count": 4,
   "id": "0d3d4ec5",
   "metadata": {},
   "outputs": [
    {
     "name": "stderr",
     "output_type": "stream",
     "text": [
      "/Users/satvikpraveen/Desktop/Libraries/StatsmodelsMasterPro/utils/visual_utils.py:90: FutureWarning: \n",
      "\n",
      "The `ci` parameter is deprecated. Use `errorbar=('ci', 95)` for the same effect.\n",
      "\n",
      "  sns.pointplot(data=df, x=x_col, y=y_col, ci=ci, capsize=0.2)\n"
     ]
    },
    {
     "data": {
      "image/png": "[encoded data removed]",
      "text/plain": [
       "<Figure size 600x400 with 1 Axes>"
      ]
     },
     "metadata": {},
     "output_type": "display_data"
    },
    {
     "data": {
      "text/plain": [
       "<Figure size 640x480 with 0 Axes>"
      ]
     },
     "metadata": {},
     "output_type": "display_data"
    }
   ],
   "source": [
    "# Point Plot with CI using Seaborn\n",
    "plot_ci_errorbar(df, x_col=\"group\", y_col=\"y\", ci=95)\n",
    "save_and_show_plot(\"group_mean_ci\", EXPORT_PLOTS)"
   ]
  },
  {
   "cell_type": "markdown",
   "id": "b9b14a07",
   "metadata": {},
   "source": [
    "## 📊 Step 3: Bar Plot with CI using Seaborn"
   ]
  },
  {
   "cell_type": "code",
   "execution_count": 5,
   "id": "b826a8a1",
   "metadata": {},
   "outputs": [
    {
     "name": "stderr",
     "output_type": "stream",
     "text": [
      "/Users/satvikpraveen/Desktop/Libraries/StatsmodelsMasterPro/utils/visual_utils.py:98: FutureWarning: \n",
      "\n",
      "The `ci` parameter is deprecated. Use `errorbar=('ci', 95)` for the same effect.\n",
      "\n",
      "  sns.barplot(data=df, x=x_col, y=y_col, ci=ci, capsize=0.1)\n"
     ]
    },
    {
     "data": {
      "image/png": "[encoded data removed]",
      "text/plain": [
       "<Figure size 600x400 with 1 Axes>"
      ]
     },
     "metadata": {},
     "output_type": "display_data"
    },
    {
     "data": {
      "text/plain": [
       "<Figure size 640x480 with 0 Axes>"
      ]
     },
     "metadata": {},
     "output_type": "display_data"
    }
   ],
   "source": [
    "# Bar Plot with CI using Seaborn\n",
    "plot_ci_barplot(df, x_col=\"group\", y_col=\"y\", ci=95, title=\"CI via Bar Plot\")\n",
    "save_and_show_plot(\"ci_barplot\", EXPORT_PLOTS)"
   ]
  },
  {
   "cell_type": "markdown",
   "id": "d61e6085",
   "metadata": {},
   "source": [
    "## 📉 Step 4: CI Calculation using statsmodels"
   ]
  },
  {
   "cell_type": "code",
   "execution_count": 6,
   "id": "0a9bfaf6",
   "metadata": {},
   "outputs": [
    {
     "data": {
      "text/html": [
       "<div>\n",
       "<style scoped>\n",
       "    .dataframe tbody tr th:only-of-type {\n",
       "        vertical-align: middle;\n",
       "    }\n",
       "\n",
       "    .dataframe tbody tr th {\n",
       "        vertical-align: top;\n",
       "    }\n",
       "\n",
       "    .dataframe thead th {\n",
       "        text-align: right;\n",
       "    }\n",
       "</style>\n",
       "<table border=\"1\" class=\"dataframe\">\n",
       "  <thead>\n",
       "    <tr style=\"text-align: right;\">\n",
       "      <th></th>\n",
       "      <th>Lower Bound</th>\n",
       "      <th>Upper Bound</th>\n",
       "    </tr>\n",
       "  </thead>\n",
       "  <tbody>\n",
       "    <tr>\n",
       "      <th>Intercept</th>\n",
       "      <td>1.275028</td>\n",
       "      <td>2.661315</td>\n",
       "    </tr>\n",
       "    <tr>\n",
       "      <th>group[T.B]</th>\n",
       "      <td>-0.778833</td>\n",
       "      <td>1.181672</td>\n",
       "    </tr>\n",
       "  </tbody>\n",
       "</table>\n",
       "</div>"
      ],
      "text/plain": [
       "            Lower Bound  Upper Bound\n",
       "Intercept      1.275028     2.661315\n",
       "group[T.B]    -0.778833     1.181672"
      ]
     },
     "metadata": {},
     "output_type": "display_data"
    }
   ],
   "source": [
    "# CI Calculation using statsmodels\n",
    "model = fit_ols_model(\"y ~ group\", df)\n",
    "ci_df = compute_confidence_interval(model)\n",
    "ci_df.columns = [\"Lower Bound\", \"Upper Bound\"]\n",
    "ci_df.to_csv(EXPORT_TABLES / \"ols_ci_table.csv\")\n",
    "display(ci_df)"
   ]
  },
  {
   "cell_type": "code",
   "execution_count": 7,
   "id": "93a9053c",
   "metadata": {},
   "outputs": [],
   "source": [
    "# Export model summary as well\n",
    "export_model_summary_as_text(model, EXPORT_TABLES / \"ols_summary.txt\")"
   ]
  },
  {
   "cell_type": "markdown",
   "id": "fb8e5f8a",
   "metadata": {},
   "source": [
    "## 📈 Step 5: Plot CI of Regression Coefficients (Visual Format)"
   ]
  },
  {
   "cell_type": "code",
   "execution_count": 8,
   "id": "9f71dde6",
   "metadata": {},
   "outputs": [
    {
     "data": {
      "image/png": "[encoded data removed]",
      "text/plain": [
       "<Figure size 600x400 with 1 Axes>"
      ]
     },
     "metadata": {},
     "output_type": "display_data"
    }
   ],
   "source": [
    "# Plot CI of Regression Coefficients (Visual Format)\n",
    "coefs = model.params\n",
    "errors = model.bse\n",
    "labels = coefs.index\n",
    "ci_bounds = 1.96 * errors  # 95% CI approximation\n",
    "\n",
    "plt.figure(figsize=(6, 4))\n",
    "plt.errorbar(x=coefs, y=labels, xerr=ci_bounds, fmt=\"o\", capsize=5, color=\"darkblue\")\n",
    "plt.axvline(x=0, color='gray', linestyle='--')\n",
    "plt.title(\"95% CI for Regression Coefficients\")\n",
    "plt.xlabel(\"Coefficient Value\")\n",
    "plt.tight_layout()\n",
    "save_and_show_plot(\"ci_regression_coefficients\", EXPORT_PLOTS)"
   ]
  },
  {
   "cell_type": "markdown",
   "id": "dd872f78",
   "metadata": {},
   "source": [
    "## ✅ Summary:\n",
    "- Loaded data and added synthetic group labels\n",
    "- Used Seaborn to visualize 95% confidence intervals across groups\n",
    "- Used `statsmodels` to extract numerical confidence intervals\n",
    "- Exported model summary and CI table"
   ]
  }
 ],
 "metadata": {
  "kernelspec": {
   "display_name": "sm_env",
   "language": "python",
   "name": "python3"
  },
  "language_info": {
   "codemirror_mode": {
    "name": "ipython",
    "version": 3
   },
   "file_extension": ".py",
   "mimetype": "text/x-python",
   "name": "python",
   "nbconvert_exporter": "python",
   "pygments_lexer": "ipython3",
   "version": "3.11.11"
  }
 },
 "nbformat": 4,
 "nbformat_minor": 5
}
